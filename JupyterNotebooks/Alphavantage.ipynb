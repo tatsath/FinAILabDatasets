{
 "cells": [
  {
   "cell_type": "markdown",
   "metadata": {},
   "source": [
    "* [1. Problem Statement](#0)\n",
    "* [2. Getting Started - Load Libraries and Dataset](#1)\n",
    "    * [2.1. Load Libraries](#1.1)    \n",
    "    * [2.2. Load Dataset](#1.2)"
   ]
  },
  {
   "cell_type": "markdown",
   "metadata": {},
   "source": [
    "<a id='0'></a>\n",
    "# 1. Problem Statement"
   ]
  },
  {
   "cell_type": "markdown",
   "metadata": {},
   "source": [
    "link: https://github.com/RomelTorres/alpha_vantage"
   ]
  },
  {
   "cell_type": "code",
   "execution_count": null,
   "metadata": {},
   "outputs": [],
   "source": [
    "https://medium.com/codex/alpha-vantage-an-introduction-to-a-highly-efficient-free-stock-api-6d17f4481bf"
   ]
  },
  {
   "cell_type": "code",
   "execution_count": null,
   "metadata": {},
   "outputs": [],
   "source": [
    "Content:\n",
    "    Stock\n",
    "    Many stocks/Indices\n",
    "    Crypto\n",
    "    FX\n",
    "    Finacial\n",
    "    Real Time Data\n",
    "    List of tickers available "
   ]
  },
  {
   "cell_type": "code",
   "execution_count": null,
   "metadata": {},
   "outputs": [],
   "source": []
  },
  {
   "cell_type": "code",
   "execution_count": null,
   "metadata": {},
   "outputs": [],
   "source": [
    "from alpha_vantage.timeseries import TimeSeries\n",
    "import pandas as pd\n",
    "import time"
   ]
  },
  {
   "cell_type": "code",
   "execution_count": null,
   "metadata": {},
   "outputs": [],
   "source": [
    "# API Key\n",
    "key = \"AAUUBAYEDCI353AC\""
   ]
  },
  {
   "cell_type": "code",
   "execution_count": null,
   "metadata": {},
   "outputs": [],
   "source": [
    "ts = TimeSeries(key=key, output_format='pandas')\n",
    "data = ts.get_daily(symbol='TSLA', outputsize='full')[0]\n",
    "data.columns = [\"open\",\"high\",\"low\",\"close\",\"volume\"]\n",
    "data = data.iloc[::-1]"
   ]
  },
  {
   "cell_type": "code",
   "execution_count": null,
   "metadata": {},
   "outputs": [],
   "source": [
    "data"
   ]
  },
  {
   "cell_type": "markdown",
   "metadata": {},
   "source": [
    "## Extracting stock data (historical close price) for multiple stocks\n"
   ]
  },
  {
   "cell_type": "code",
   "execution_count": null,
   "metadata": {},
   "outputs": [],
   "source": [
    "all_tickers = [\"AAPL\",\"MSFT\",\"CSCO\",\"AMZN\",\"GOOG\",\n",
    "               \"FB\",\"BA\",\"MMM\",\"XOM\",\"NKE\",\"INTC\"]\n",
    "close_prices = pd.DataFrame()\n",
    "api_call_count = 1\n",
    "ts = TimeSeries(key=key, output_format='pandas')\n",
    "start_time = time.time()\n",
    "for ticker in all_tickers:\n",
    "    data = ts.get_intraday(symbol=ticker,interval='1min', outputsize='compact')[0]\n",
    "    api_call_count+=1\n",
    "    data.columns = [\"open\",\"high\",\"low\",\"close\",\"volume\"]\n",
    "    data = data.iloc[::-1]\n",
    "    close_prices[ticker] = data[\"close\"]\n",
    "    if api_call_count==5:\n",
    "        api_call_count = 1\n",
    "        time.sleep(60 - ((time.time() - start_time) % 60.0))"
   ]
  },
  {
   "cell_type": "code",
   "execution_count": null,
   "metadata": {},
   "outputs": [],
   "source": [
    "close_prices"
   ]
  },
  {
   "cell_type": "markdown",
   "metadata": {},
   "source": [
    "## Extracting OHLCV data for multiple stocks\n"
   ]
  },
  {
   "cell_type": "code",
   "execution_count": null,
   "metadata": {},
   "outputs": [],
   "source": [
    "all_tickers = [\"AAPL\",\"MSFT\",\"CSCO\",\"AMZN\",\"GOOG\",\n",
    "               \"FB\",\"BA\",\"MMM\",\"XOM\",\"NKE\",\"INTC\"]\n",
    "ohlv_dict = {}\n",
    "api_call_count = 1\n",
    "ts = TimeSeries(key=open(key_path,'r').read(), output_format='pandas')\n",
    "start_time = time.time()\n",
    "for ticker in all_tickers:\n",
    "    data = ts.get_intraday(symbol=ticker,interval='1min', outputsize='compact')[0]\n",
    "    api_call_count+=1\n",
    "    data.columns = [\"open\",\"high\",\"low\",\"close\",\"volume\"]\n",
    "    data = data.iloc[::-1]\n",
    "    ohlv_dict[ticker] = data\n",
    "    if api_call_count==5:\n",
    "        api_call_count = 1\n",
    "        time.sleep(60 - ((time.time() - start_time) % 60.0))"
   ]
  },
  {
   "cell_type": "code",
   "execution_count": null,
   "metadata": {},
   "outputs": [],
   "source": [
    "ohlv_dict['AMZN']"
   ]
  }
 ],
 "metadata": {
  "kernelspec": {
   "display_name": "Python 3",
   "language": "python",
   "name": "python3"
  },
  "language_info": {
   "codemirror_mode": {
    "name": "ipython",
    "version": 3
   },
   "file_extension": ".py",
   "mimetype": "text/x-python",
   "name": "python",
   "nbconvert_exporter": "python",
   "pygments_lexer": "ipython3",
   "version": "3.7.3"
  }
 },
 "nbformat": 4,
 "nbformat_minor": 4
}
