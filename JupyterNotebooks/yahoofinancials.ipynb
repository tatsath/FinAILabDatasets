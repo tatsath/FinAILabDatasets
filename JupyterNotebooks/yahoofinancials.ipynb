{
 "cells": [
  {
   "cell_type": "markdown",
   "metadata": {},
   "source": [
    "* [1. Problem Statement](#0)\n",
    "* [2. Getting Started - Load Libraries and Dataset](#1)\n",
    "    * [2.1. Load Libraries](#1.1)    \n",
    "    * [2.2. Load Dataset](#1.2)"
   ]
  },
  {
   "cell_type": "markdown",
   "metadata": {},
   "source": [
    "<a id='0'></a>\n",
    "# 1. Problem Statement"
   ]
  },
  {
   "cell_type": "markdown",
   "metadata": {},
   "source": [
    "Content:\n",
    "    Stock\n",
    "    Many stocks/Indices\n",
    "    Crypto\n",
    "    FX\n",
    "    Mutual Funds\n",
    "    Treasury Yields\n",
    "    Ticket Object \n",
    "    Stock Fundamentals\n",
    "    Finacial\n",
    "    OPtions\n",
    "    Real Time Data\n",
    "    List of tickers available "
   ]
  },
  {
   "cell_type": "markdown",
   "metadata": {},
   "source": [
    "https://blog.quantinsti.com/stock-market-data-analysis-python/"
   ]
  },
  {
   "cell_type": "code",
   "execution_count": 5,
   "metadata": {},
   "outputs": [
    {
     "ename": "ModuleNotFoundError",
     "evalue": "No module named 'yahoofinancials'",
     "output_type": "error",
     "traceback": [
      "\u001b[1;31m---------------------------------------------------------------------------\u001b[0m",
      "\u001b[1;31mModuleNotFoundError\u001b[0m                       Traceback (most recent call last)",
      "\u001b[1;32m<ipython-input-5-508333aec7e4>\u001b[0m in \u001b[0;36m<module>\u001b[1;34m\u001b[0m\n\u001b[0;32m      2\u001b[0m \u001b[1;32mimport\u001b[0m \u001b[0mpandas\u001b[0m \u001b[1;32mas\u001b[0m \u001b[0mpd\u001b[0m\u001b[1;33m\u001b[0m\u001b[1;33m\u001b[0m\u001b[0m\n\u001b[0;32m      3\u001b[0m \u001b[1;32mimport\u001b[0m \u001b[0mmatplotlib\u001b[0m\u001b[1;33m.\u001b[0m\u001b[0mpyplot\u001b[0m \u001b[1;32mas\u001b[0m \u001b[0mplt\u001b[0m\u001b[1;33m\u001b[0m\u001b[1;33m\u001b[0m\u001b[0m\n\u001b[1;32m----> 4\u001b[1;33m \u001b[1;32mfrom\u001b[0m \u001b[0myahoofinancials\u001b[0m \u001b[1;32mimport\u001b[0m \u001b[0mYahooFinancials\u001b[0m\u001b[1;33m\u001b[0m\u001b[1;33m\u001b[0m\u001b[0m\n\u001b[0m\u001b[0;32m      5\u001b[0m \u001b[1;32mimport\u001b[0m \u001b[0mdatetime\u001b[0m\u001b[1;33m\u001b[0m\u001b[1;33m\u001b[0m\u001b[0m\n",
      "\u001b[1;31mModuleNotFoundError\u001b[0m: No module named 'yahoofinancials'"
     ]
    }
   ],
   "source": [
    "import numpy as np\n",
    "import pandas as pd\n",
    "import matplotlib.pyplot as plt\n",
    "from yahoofinancials import YahooFinancials\n",
    "import datetime"
   ]
  },
  {
   "cell_type": "code",
   "execution_count": null,
   "metadata": {},
   "outputs": [],
   "source": [
    "Content:\n",
    "    Stock\n",
    "    Many stocks/Indices\n",
    "    Crypto\n",
    "    FX\n",
    "    Mutual Funds\n",
    "    Treasury Yields\n",
    "    Ticket Object \n",
    "    Stock Fundamentals\n",
    "    Finacial\n",
    "    OPtions\n",
    "    Real Time Data\n",
    "    List of tickers available "
   ]
  },
  {
   "cell_type": "code",
   "execution_count": null,
   "metadata": {},
   "outputs": [],
   "source": [
    "ticker = 'HDFCBANK.NS'"
   ]
  },
  {
   "cell_type": "code",
   "execution_count": null,
   "metadata": {},
   "outputs": [],
   "source": [
    "yahoo_financials = YahooFinancials(ticker)\n",
    "data = yahoo_financials.get_historical_price_data(\"2019-05-01\",\"2020-05-01\",\"daily\")"
   ]
  },
  {
   "cell_type": "code",
   "execution_count": null,
   "metadata": {},
   "outputs": [],
   "source": [
    "type(data)"
   ]
  },
  {
   "cell_type": "markdown",
   "metadata": {},
   "source": [
    "### Extracting stock data (historical close price) for the stocks identified\n"
   ]
  },
  {
   "cell_type": "code",
   "execution_count": null,
   "metadata": {},
   "outputs": [],
   "source": [
    "all_tickers = [\"AAPL\",\"MSFT\",\"CSCO\",\"AMZN\",\"HDFCBANK.NS\",\"BAJFINANCE.NS\"]"
   ]
  },
  {
   "cell_type": "code",
   "execution_count": null,
   "metadata": {},
   "outputs": [],
   "source": [
    "close_prices = pd.DataFrame()\n",
    "end_date = (datetime.date.today()).strftime('%Y-%m-%d')\n",
    "beg_date = (datetime.date.today()-datetime.timedelta(1825)).strftime('%Y-%m-%d')\n",
    "for ticker in all_tickers:\n",
    "    yahoo_financials = YahooFinancials(ticker)\n",
    "    json_obj = yahoo_financials.get_historical_price_data(beg_date,end_date,\"daily\")\n",
    "    ohlv = json_obj[ticker]['prices']\n",
    "    temp = pd.DataFrame(ohlv)[[\"formatted_date\",\"adjclose\"]]\n",
    "    temp.set_index(\"formatted_date\",inplace=True)\n",
    "    temp.dropna(inplace=True)\n",
    "    close_prices[ticker] = temp[\"adjclose\"]"
   ]
  },
  {
   "cell_type": "code",
   "execution_count": null,
   "metadata": {},
   "outputs": [],
   "source": [
    "close_prices"
   ]
  },
  {
   "cell_type": "markdown",
   "metadata": {},
   "source": [
    "## Extracting stock data (OHLC) for the stocks identified\n"
   ]
  },
  {
   "cell_type": "code",
   "execution_count": null,
   "metadata": {},
   "outputs": [],
   "source": [
    "ohlv_dict = {}\n",
    "end_date = (datetime.date.today()).strftime('%Y-%m-%d')\n",
    "beg_date = (datetime.date.today()-datetime.timedelta(1825)).strftime('%Y-%m-%d')\n",
    "for ticker in all_tickers:\n",
    "    yahoo_financials = YahooFinancials(ticker)\n",
    "    json_obj = yahoo_financials.get_historical_price_data(beg_date,end_date,\"daily\")\n",
    "    ohlv = json_obj[ticker]['prices']\n",
    "    temp = pd.DataFrame(ohlv)[[\"formatted_date\",\"adjclose\",\"open\",\"low\",\"high\",\"volume\"]]\n",
    "    temp.set_index(\"formatted_date\",inplace=True)\n",
    "    temp.dropna(inplace=True)\n",
    "    ohlv_dict[ticker] = temp"
   ]
  },
  {
   "cell_type": "code",
   "execution_count": null,
   "metadata": {},
   "outputs": [],
   "source": [
    "ohlv_dict['AAPL']"
   ]
  }
 ],
 "metadata": {
  "kernelspec": {
   "display_name": "Python 3",
   "language": "python",
   "name": "python3"
  },
  "language_info": {
   "codemirror_mode": {
    "name": "ipython",
    "version": 3
   },
   "file_extension": ".py",
   "mimetype": "text/x-python",
   "name": "python",
   "nbconvert_exporter": "python",
   "pygments_lexer": "ipython3",
   "version": "3.7.3"
  }
 },
 "nbformat": 4,
 "nbformat_minor": 4
}
