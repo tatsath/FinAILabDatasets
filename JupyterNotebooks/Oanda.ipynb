{
 "cells": [
  {
   "cell_type": "markdown",
   "metadata": {},
   "source": [
    "# Importing Data from OANDA"
   ]
  },
  {
   "cell_type": "markdown",
   "metadata": {},
   "source": [
    "## Connecting to the API"
   ]
  },
  {
   "cell_type": "code",
   "execution_count": 1,
   "metadata": {},
   "outputs": [],
   "source": [
    "import pandas as pd\n",
    "import tpqoa"
   ]
  },
  {
   "cell_type": "code",
   "execution_count": 2,
   "metadata": {},
   "outputs": [],
   "source": [
    "api = tpqoa.tpqoa(\"oanda.cfg\")"
   ]
  },
  {
   "cell_type": "code",
   "execution_count": 3,
   "metadata": {},
   "outputs": [
    {
     "ename": "ResponseNoField",
     "evalue": "400 response for GET https://api-fxpractice.oanda.com:443/v3/accounts/zcoriarty/instruments does not have field 'instruments' (contains 'errorMessage')",
     "output_type": "error",
     "traceback": [
      "\u001b[0;31m---------------------------------------------------------------------------\u001b[0m",
      "\u001b[0;31mResponseNoField\u001b[0m                           Traceback (most recent call last)",
      "\u001b[0;32m/var/folders/pk/ntxqk62j0_jb9d_f4plbpzv80000gn/T/ipykernel_76497/24825405.py\u001b[0m in \u001b[0;36m<module>\u001b[0;34m\u001b[0m\n\u001b[0;32m----> 1\u001b[0;31m \u001b[0mapi\u001b[0m\u001b[0;34m.\u001b[0m\u001b[0mget_instruments\u001b[0m\u001b[0;34m(\u001b[0m\u001b[0;34m)\u001b[0m\u001b[0;34m\u001b[0m\u001b[0;34m\u001b[0m\u001b[0m\n\u001b[0m",
      "\u001b[0;32m~/Desktop/FinAILabDatasets/venv/lib/python3.8/site-packages/tpqoa/tpqoa.py\u001b[0m in \u001b[0;36mget_instruments\u001b[0;34m(self)\u001b[0m\n\u001b[1;32m    140\u001b[0m         \u001b[0;34m''' Retrieves and returns all instruments for the given account. '''\u001b[0m\u001b[0;34m\u001b[0m\u001b[0;34m\u001b[0m\u001b[0m\n\u001b[1;32m    141\u001b[0m         \u001b[0mresp\u001b[0m \u001b[0;34m=\u001b[0m \u001b[0mself\u001b[0m\u001b[0;34m.\u001b[0m\u001b[0mctx\u001b[0m\u001b[0;34m.\u001b[0m\u001b[0maccount\u001b[0m\u001b[0;34m.\u001b[0m\u001b[0minstruments\u001b[0m\u001b[0;34m(\u001b[0m\u001b[0mself\u001b[0m\u001b[0;34m.\u001b[0m\u001b[0maccount_id\u001b[0m\u001b[0;34m)\u001b[0m\u001b[0;34m\u001b[0m\u001b[0;34m\u001b[0m\u001b[0m\n\u001b[0;32m--> 142\u001b[0;31m         \u001b[0minstruments\u001b[0m \u001b[0;34m=\u001b[0m \u001b[0mresp\u001b[0m\u001b[0;34m.\u001b[0m\u001b[0mget\u001b[0m\u001b[0;34m(\u001b[0m\u001b[0;34m'instruments'\u001b[0m\u001b[0;34m)\u001b[0m\u001b[0;34m\u001b[0m\u001b[0;34m\u001b[0m\u001b[0m\n\u001b[0m\u001b[1;32m    143\u001b[0m         \u001b[0minstruments\u001b[0m \u001b[0;34m=\u001b[0m \u001b[0;34m[\u001b[0m\u001b[0mins\u001b[0m\u001b[0;34m.\u001b[0m\u001b[0mdict\u001b[0m\u001b[0;34m(\u001b[0m\u001b[0;34m)\u001b[0m \u001b[0;32mfor\u001b[0m \u001b[0mins\u001b[0m \u001b[0;32min\u001b[0m \u001b[0minstruments\u001b[0m\u001b[0;34m]\u001b[0m\u001b[0;34m\u001b[0m\u001b[0;34m\u001b[0m\u001b[0m\n\u001b[1;32m    144\u001b[0m         instruments = [(ins['displayName'], ins['name'])\n",
      "\u001b[0;32m~/Desktop/FinAILabDatasets/venv/lib/python3.8/site-packages/v20/response.py\u001b[0m in \u001b[0;36mget\u001b[0;34m(self, field, status)\u001b[0m\n\u001b[1;32m     33\u001b[0m \u001b[0;34m\u001b[0m\u001b[0m\n\u001b[1;32m     34\u001b[0m         \u001b[0;32mif\u001b[0m \u001b[0mvalue\u001b[0m \u001b[0;32mis\u001b[0m \u001b[0;32mNone\u001b[0m\u001b[0;34m:\u001b[0m\u001b[0;34m\u001b[0m\u001b[0;34m\u001b[0m\u001b[0m\n\u001b[0;32m---> 35\u001b[0;31m             \u001b[0;32mraise\u001b[0m \u001b[0mResponseNoField\u001b[0m\u001b[0;34m(\u001b[0m\u001b[0mself\u001b[0m\u001b[0;34m,\u001b[0m \u001b[0mfield\u001b[0m\u001b[0;34m)\u001b[0m\u001b[0;34m\u001b[0m\u001b[0;34m\u001b[0m\u001b[0m\n\u001b[0m\u001b[1;32m     36\u001b[0m \u001b[0;34m\u001b[0m\u001b[0m\n\u001b[1;32m     37\u001b[0m         \u001b[0;32mreturn\u001b[0m \u001b[0mvalue\u001b[0m\u001b[0;34m\u001b[0m\u001b[0;34m\u001b[0m\u001b[0m\n",
      "\u001b[0;31mResponseNoField\u001b[0m: 400 response for GET https://api-fxpractice.oanda.com:443/v3/accounts/zcoriarty/instruments does not have field 'instruments' (contains 'errorMessage')"
     ]
    }
   ],
   "source": [
    "# api.get_instruments()"
   ]
  },
  {
   "cell_type": "markdown",
   "metadata": {},
   "source": [
    "\n",
    "## Getting Historical Data - Currency\n"
   ]
  },
  {
   "cell_type": "code",
   "execution_count": 6,
   "metadata": {
    "scrolled": true
   },
   "outputs": [
    {
     "data": {
      "text/html": [
       "<div>\n",
       "<style scoped>\n",
       "    .dataframe tbody tr th:only-of-type {\n",
       "        vertical-align: middle;\n",
       "    }\n",
       "\n",
       "    .dataframe tbody tr th {\n",
       "        vertical-align: top;\n",
       "    }\n",
       "\n",
       "    .dataframe thead th {\n",
       "        text-align: right;\n",
       "    }\n",
       "</style>\n",
       "<table border=\"1\" class=\"dataframe\">\n",
       "  <thead>\n",
       "    <tr style=\"text-align: right;\">\n",
       "      <th></th>\n",
       "      <th>o</th>\n",
       "      <th>h</th>\n",
       "      <th>l</th>\n",
       "      <th>c</th>\n",
       "      <th>volume</th>\n",
       "      <th>complete</th>\n",
       "    </tr>\n",
       "    <tr>\n",
       "      <th>time</th>\n",
       "      <th></th>\n",
       "      <th></th>\n",
       "      <th></th>\n",
       "      <th></th>\n",
       "      <th></th>\n",
       "      <th></th>\n",
       "    </tr>\n",
       "  </thead>\n",
       "  <tbody>\n",
       "    <tr>\n",
       "      <th>2018-09-02 21:00:00</th>\n",
       "      <td>26017.9</td>\n",
       "      <td>26075.1</td>\n",
       "      <td>25956.4</td>\n",
       "      <td>26022.4</td>\n",
       "      <td>5839</td>\n",
       "      <td>True</td>\n",
       "    </tr>\n",
       "    <tr>\n",
       "      <th>2018-09-03 21:00:00</th>\n",
       "      <td>26019.4</td>\n",
       "      <td>26063.6</td>\n",
       "      <td>25813.8</td>\n",
       "      <td>25991.7</td>\n",
       "      <td>24644</td>\n",
       "      <td>True</td>\n",
       "    </tr>\n",
       "    <tr>\n",
       "      <th>2018-09-04 21:00:00</th>\n",
       "      <td>25988.5</td>\n",
       "      <td>26023.4</td>\n",
       "      <td>25839.5</td>\n",
       "      <td>25981.0</td>\n",
       "      <td>27660</td>\n",
       "      <td>True</td>\n",
       "    </tr>\n",
       "    <tr>\n",
       "      <th>2018-09-05 21:00:00</th>\n",
       "      <td>25969.4</td>\n",
       "      <td>26098.1</td>\n",
       "      <td>25892.8</td>\n",
       "      <td>26014.7</td>\n",
       "      <td>159482</td>\n",
       "      <td>True</td>\n",
       "    </tr>\n",
       "    <tr>\n",
       "      <th>2018-09-06 21:00:00</th>\n",
       "      <td>26006.2</td>\n",
       "      <td>26035.9</td>\n",
       "      <td>25831.3</td>\n",
       "      <td>25940.9</td>\n",
       "      <td>190600</td>\n",
       "      <td>True</td>\n",
       "    </tr>\n",
       "    <tr>\n",
       "      <th>...</th>\n",
       "      <td>...</td>\n",
       "      <td>...</td>\n",
       "      <td>...</td>\n",
       "      <td>...</td>\n",
       "      <td>...</td>\n",
       "      <td>...</td>\n",
       "    </tr>\n",
       "    <tr>\n",
       "      <th>2019-08-25 21:00:00</th>\n",
       "      <td>25416.0</td>\n",
       "      <td>25977.0</td>\n",
       "      <td>25259.8</td>\n",
       "      <td>25918.0</td>\n",
       "      <td>84639</td>\n",
       "      <td>True</td>\n",
       "    </tr>\n",
       "    <tr>\n",
       "      <th>2019-08-26 21:00:00</th>\n",
       "      <td>25926.5</td>\n",
       "      <td>26061.5</td>\n",
       "      <td>25708.2</td>\n",
       "      <td>25758.6</td>\n",
       "      <td>58151</td>\n",
       "      <td>True</td>\n",
       "    </tr>\n",
       "    <tr>\n",
       "      <th>2019-08-27 21:00:00</th>\n",
       "      <td>25747.1</td>\n",
       "      <td>26039.1</td>\n",
       "      <td>25616.8</td>\n",
       "      <td>25987.1</td>\n",
       "      <td>52829</td>\n",
       "      <td>True</td>\n",
       "    </tr>\n",
       "    <tr>\n",
       "      <th>2019-08-28 21:00:00</th>\n",
       "      <td>25990.6</td>\n",
       "      <td>26402.7</td>\n",
       "      <td>25925.8</td>\n",
       "      <td>26358.0</td>\n",
       "      <td>42311</td>\n",
       "      <td>True</td>\n",
       "    </tr>\n",
       "    <tr>\n",
       "      <th>2019-08-29 21:00:00</th>\n",
       "      <td>26322.8</td>\n",
       "      <td>26554.3</td>\n",
       "      <td>26296.2</td>\n",
       "      <td>26393.1</td>\n",
       "      <td>43515</td>\n",
       "      <td>True</td>\n",
       "    </tr>\n",
       "  </tbody>\n",
       "</table>\n",
       "<p>259 rows × 6 columns</p>\n",
       "</div>"
      ],
      "text/plain": [
       "                           o        h        l        c  volume  complete\n",
       "time                                                                     \n",
       "2018-09-02 21:00:00  26017.9  26075.1  25956.4  26022.4    5839      True\n",
       "2018-09-03 21:00:00  26019.4  26063.6  25813.8  25991.7   24644      True\n",
       "2018-09-04 21:00:00  25988.5  26023.4  25839.5  25981.0   27660      True\n",
       "2018-09-05 21:00:00  25969.4  26098.1  25892.8  26014.7  159482      True\n",
       "2018-09-06 21:00:00  26006.2  26035.9  25831.3  25940.9  190600      True\n",
       "...                      ...      ...      ...      ...     ...       ...\n",
       "2019-08-25 21:00:00  25416.0  25977.0  25259.8  25918.0   84639      True\n",
       "2019-08-26 21:00:00  25926.5  26061.5  25708.2  25758.6   58151      True\n",
       "2019-08-27 21:00:00  25747.1  26039.1  25616.8  25987.1   52829      True\n",
       "2019-08-28 21:00:00  25990.6  26402.7  25925.8  26358.0   42311      True\n",
       "2019-08-29 21:00:00  26322.8  26554.3  26296.2  26393.1   43515      True\n",
       "\n",
       "[259 rows x 6 columns]"
      ]
     },
     "execution_count": 6,
     "metadata": {},
     "output_type": "execute_result"
    }
   ],
   "source": [
    "api.get_history(\"US30_USD\", \"2018-09-01\", \"2019-09-01\", \"D\", \"B\")"
   ]
  },
  {
   "cell_type": "code",
   "execution_count": 5,
   "metadata": {
    "scrolled": true
   },
   "outputs": [
    {
     "data": {
      "text/html": [
       "<div>\n",
       "<style scoped>\n",
       "    .dataframe tbody tr th:only-of-type {\n",
       "        vertical-align: middle;\n",
       "    }\n",
       "\n",
       "    .dataframe tbody tr th {\n",
       "        vertical-align: top;\n",
       "    }\n",
       "\n",
       "    .dataframe thead th {\n",
       "        text-align: right;\n",
       "    }\n",
       "</style>\n",
       "<table border=\"1\" class=\"dataframe\">\n",
       "  <thead>\n",
       "    <tr style=\"text-align: right;\">\n",
       "      <th></th>\n",
       "      <th>o</th>\n",
       "      <th>h</th>\n",
       "      <th>l</th>\n",
       "      <th>c</th>\n",
       "      <th>volume</th>\n",
       "      <th>complete</th>\n",
       "    </tr>\n",
       "    <tr>\n",
       "      <th>time</th>\n",
       "      <th></th>\n",
       "      <th></th>\n",
       "      <th></th>\n",
       "      <th></th>\n",
       "      <th></th>\n",
       "      <th></th>\n",
       "    </tr>\n",
       "  </thead>\n",
       "  <tbody>\n",
       "    <tr>\n",
       "      <th>2018-09-02 21:00:00</th>\n",
       "      <td>1.15955</td>\n",
       "      <td>1.16273</td>\n",
       "      <td>1.15886</td>\n",
       "      <td>1.16174</td>\n",
       "      <td>34705</td>\n",
       "      <td>True</td>\n",
       "    </tr>\n",
       "    <tr>\n",
       "      <th>2018-09-03 21:00:00</th>\n",
       "      <td>1.16168</td>\n",
       "      <td>1.16188</td>\n",
       "      <td>1.15296</td>\n",
       "      <td>1.15810</td>\n",
       "      <td>46399</td>\n",
       "      <td>True</td>\n",
       "    </tr>\n",
       "    <tr>\n",
       "      <th>2018-09-04 21:00:00</th>\n",
       "      <td>1.15776</td>\n",
       "      <td>1.16400</td>\n",
       "      <td>1.15422</td>\n",
       "      <td>1.16298</td>\n",
       "      <td>55753</td>\n",
       "      <td>True</td>\n",
       "    </tr>\n",
       "    <tr>\n",
       "      <th>2018-09-05 21:00:00</th>\n",
       "      <td>1.16298</td>\n",
       "      <td>1.16587</td>\n",
       "      <td>1.16045</td>\n",
       "      <td>1.16215</td>\n",
       "      <td>51070</td>\n",
       "      <td>True</td>\n",
       "    </tr>\n",
       "    <tr>\n",
       "      <th>2018-09-06 21:00:00</th>\n",
       "      <td>1.16203</td>\n",
       "      <td>1.16490</td>\n",
       "      <td>1.15491</td>\n",
       "      <td>1.15491</td>\n",
       "      <td>62733</td>\n",
       "      <td>True</td>\n",
       "    </tr>\n",
       "    <tr>\n",
       "      <th>...</th>\n",
       "      <td>...</td>\n",
       "      <td>...</td>\n",
       "      <td>...</td>\n",
       "      <td>...</td>\n",
       "      <td>...</td>\n",
       "      <td>...</td>\n",
       "    </tr>\n",
       "    <tr>\n",
       "      <th>2019-08-25 21:00:00</th>\n",
       "      <td>1.11497</td>\n",
       "      <td>1.11632</td>\n",
       "      <td>1.10937</td>\n",
       "      <td>1.10952</td>\n",
       "      <td>25073</td>\n",
       "      <td>True</td>\n",
       "    </tr>\n",
       "    <tr>\n",
       "      <th>2019-08-26 21:00:00</th>\n",
       "      <td>1.10986</td>\n",
       "      <td>1.11154</td>\n",
       "      <td>1.10852</td>\n",
       "      <td>1.10892</td>\n",
       "      <td>14568</td>\n",
       "      <td>True</td>\n",
       "    </tr>\n",
       "    <tr>\n",
       "      <th>2019-08-27 21:00:00</th>\n",
       "      <td>1.10892</td>\n",
       "      <td>1.10975</td>\n",
       "      <td>1.10727</td>\n",
       "      <td>1.10768</td>\n",
       "      <td>13132</td>\n",
       "      <td>True</td>\n",
       "    </tr>\n",
       "    <tr>\n",
       "      <th>2019-08-28 21:00:00</th>\n",
       "      <td>1.10773</td>\n",
       "      <td>1.10912</td>\n",
       "      <td>1.10414</td>\n",
       "      <td>1.10556</td>\n",
       "      <td>15819</td>\n",
       "      <td>True</td>\n",
       "    </tr>\n",
       "    <tr>\n",
       "      <th>2019-08-29 21:00:00</th>\n",
       "      <td>1.10556</td>\n",
       "      <td>1.10597</td>\n",
       "      <td>1.09625</td>\n",
       "      <td>1.09855</td>\n",
       "      <td>17510</td>\n",
       "      <td>True</td>\n",
       "    </tr>\n",
       "  </tbody>\n",
       "</table>\n",
       "<p>258 rows × 6 columns</p>\n",
       "</div>"
      ],
      "text/plain": [
       "                           o        h        l        c  volume  complete\n",
       "time                                                                     \n",
       "2018-09-02 21:00:00  1.15955  1.16273  1.15886  1.16174   34705      True\n",
       "2018-09-03 21:00:00  1.16168  1.16188  1.15296  1.15810   46399      True\n",
       "2018-09-04 21:00:00  1.15776  1.16400  1.15422  1.16298   55753      True\n",
       "2018-09-05 21:00:00  1.16298  1.16587  1.16045  1.16215   51070      True\n",
       "2018-09-06 21:00:00  1.16203  1.16490  1.15491  1.15491   62733      True\n",
       "...                      ...      ...      ...      ...     ...       ...\n",
       "2019-08-25 21:00:00  1.11497  1.11632  1.10937  1.10952   25073      True\n",
       "2019-08-26 21:00:00  1.10986  1.11154  1.10852  1.10892   14568      True\n",
       "2019-08-27 21:00:00  1.10892  1.10975  1.10727  1.10768   13132      True\n",
       "2019-08-28 21:00:00  1.10773  1.10912  1.10414  1.10556   15819      True\n",
       "2019-08-29 21:00:00  1.10556  1.10597  1.09625  1.09855   17510      True\n",
       "\n",
       "[258 rows x 6 columns]"
      ]
     },
     "execution_count": 5,
     "metadata": {},
     "output_type": "execute_result"
    }
   ],
   "source": [
    "api.get_history(\"EUR_USD\", \"2018-09-01\", \"2019-09-01\", \"D\", \"B\")"
   ]
  },
  {
   "cell_type": "code",
   "execution_count": null,
   "metadata": {
    "scrolled": true
   },
   "outputs": [],
   "source": [
    "api.get_history(\"EUR_USD\", \"2018-09-01\", \"2019-09-01\", \"D\", \"A\")"
   ]
  },
  {
   "cell_type": "markdown",
   "metadata": {},
   "source": [
    "## Setting the Frequency (high-frequency Intraday)"
   ]
  },
  {
   "cell_type": "code",
   "execution_count": null,
   "metadata": {
    "scrolled": true
   },
   "outputs": [],
   "source": [
    "api.get_history(\"EUR_USD\", \"2019-08-01\", \"2019-09-01\", \"M1\", \"B\")"
   ]
  },
  {
   "cell_type": "code",
   "execution_count": null,
   "metadata": {
    "scrolled": true
   },
   "outputs": [],
   "source": [
    "api.get_history(\"EUR_USD\", \"2019-09-01\", \"2019-09-04\", \"S5\", \"B\")"
   ]
  },
  {
   "cell_type": "code",
   "execution_count": null,
   "metadata": {
    "scrolled": true
   },
   "outputs": [],
   "source": [
    "api.get_history(\"EUR_USD\", \"2019-09-01\", \"2019-09-04\", \"S30\", \"B\")"
   ]
  },
  {
   "cell_type": "markdown",
   "metadata": {},
   "source": [
    "## Streaming high-frequency real-time Data"
   ]
  },
  {
   "cell_type": "code",
   "execution_count": null,
   "metadata": {
    "scrolled": true
   },
   "outputs": [],
   "source": [
    "api.stream_data('EUR_USD', stop=10) "
   ]
  },
  {
   "cell_type": "code",
   "execution_count": null,
   "metadata": {},
   "outputs": [],
   "source": [
    "api.stop_stream()"
   ]
  },
  {
   "cell_type": "code",
   "execution_count": null,
   "metadata": {},
   "outputs": [],
   "source": []
  }
 ],
 "metadata": {
  "kernelspec": {
   "display_name": "Python 3",
   "language": "python",
   "name": "python3"
  },
  "language_info": {
   "codemirror_mode": {
    "name": "ipython",
    "version": 3
   },
   "file_extension": ".py",
   "mimetype": "text/x-python",
   "name": "python",
   "nbconvert_exporter": "python",
   "pygments_lexer": "ipython3",
   "version": "3.8.9"
  }
 },
 "nbformat": 4,
 "nbformat_minor": 2
}
