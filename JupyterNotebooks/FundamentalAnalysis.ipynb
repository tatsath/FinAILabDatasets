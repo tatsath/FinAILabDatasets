{
 "cells": [
  {
   "cell_type": "code",
   "execution_count": 2,
   "metadata": {},
   "outputs": [],
   "source": [
    "import FundamentalAnalysis as fa\n",
    "import financedatabase as fd\n",
    "import pandas as pd\n",
    "ticker = \"TSLA\"\n",
    "api_key = \"7b95034d43c6ccb530b841102ac7bc8f\"\n"
   ]
  },
  {
   "cell_type": "markdown",
   "metadata": {},
   "source": [
    "The below command lists all options available to be queried"
   ]
  },
  {
   "cell_type": "code",
   "execution_count": 19,
   "metadata": {},
   "outputs": [
    {
     "data": {
      "text/html": [
       "<div>\n",
       "<style scoped>\n",
       "    .dataframe tbody tr th:only-of-type {\n",
       "        vertical-align: middle;\n",
       "    }\n",
       "\n",
       "    .dataframe tbody tr th {\n",
       "        vertical-align: top;\n",
       "    }\n",
       "\n",
       "    .dataframe thead th {\n",
       "        text-align: right;\n",
       "    }\n",
       "</style>\n",
       "<table border=\"1\" class=\"dataframe\">\n",
       "  <thead>\n",
       "    <tr style=\"text-align: right;\">\n",
       "      <th></th>\n",
       "      <th>0</th>\n",
       "    </tr>\n",
       "  </thead>\n",
       "  <tbody>\n",
       "    <tr>\n",
       "      <th>0</th>\n",
       "      <td>AAVE</td>\n",
       "    </tr>\n",
       "    <tr>\n",
       "      <th>1</th>\n",
       "      <td>ABBC</td>\n",
       "    </tr>\n",
       "    <tr>\n",
       "      <th>2</th>\n",
       "      <td>ACH</td>\n",
       "    </tr>\n",
       "    <tr>\n",
       "      <th>3</th>\n",
       "      <td>ACT</td>\n",
       "    </tr>\n",
       "    <tr>\n",
       "      <th>4</th>\n",
       "      <td>ADA</td>\n",
       "    </tr>\n",
       "    <tr>\n",
       "      <th>...</th>\n",
       "      <td>...</td>\n",
       "    </tr>\n",
       "    <tr>\n",
       "      <th>346</th>\n",
       "      <td>ZIL</td>\n",
       "    </tr>\n",
       "    <tr>\n",
       "      <th>347</th>\n",
       "      <td>ZNN</td>\n",
       "    </tr>\n",
       "    <tr>\n",
       "      <th>348</th>\n",
       "      <td>ZRX</td>\n",
       "    </tr>\n",
       "    <tr>\n",
       "      <th>349</th>\n",
       "      <td>ZVC</td>\n",
       "    </tr>\n",
       "    <tr>\n",
       "      <th>350</th>\n",
       "      <td>ZYN</td>\n",
       "    </tr>\n",
       "  </tbody>\n",
       "</table>\n",
       "<p>351 rows × 1 columns</p>\n",
       "</div>"
      ],
      "text/plain": [
       "        0\n",
       "0    AAVE\n",
       "1    ABBC\n",
       "2     ACH\n",
       "3     ACT\n",
       "4     ADA\n",
       "..    ...\n",
       "346   ZIL\n",
       "347   ZNN\n",
       "348   ZRX\n",
       "349   ZVC\n",
       "350   ZYN\n",
       "\n",
       "[351 rows x 1 columns]"
      ]
     },
     "execution_count": 19,
     "metadata": {},
     "output_type": "execute_result"
    }
   ],
   "source": [
    "# Options: 'cryptocurrencies', 'currencies', 'equities', 'etfs' or 'funds'\n",
    "options = fd.show_options('cryptocurrencies', equities_selection=None, country=None, sector=None, industry=None)\n",
    "options = pd.DataFrame(options)\n",
    "options"
   ]
  },
  {
   "cell_type": "code",
   "execution_count": 6,
   "metadata": {},
   "outputs": [
    {
     "data": {
      "text/html": [
       "<div>\n",
       "<style scoped>\n",
       "    .dataframe tbody tr th:only-of-type {\n",
       "        vertical-align: middle;\n",
       "    }\n",
       "\n",
       "    .dataframe tbody tr th {\n",
       "        vertical-align: top;\n",
       "    }\n",
       "\n",
       "    .dataframe thead th {\n",
       "        text-align: right;\n",
       "    }\n",
       "</style>\n",
       "<table border=\"1\" class=\"dataframe\">\n",
       "  <thead>\n",
       "    <tr style=\"text-align: right;\">\n",
       "      <th></th>\n",
       "      <th>name</th>\n",
       "      <th>price</th>\n",
       "      <th>exchange</th>\n",
       "      <th>exchangeShortName</th>\n",
       "      <th>type</th>\n",
       "    </tr>\n",
       "    <tr>\n",
       "      <th>symbol</th>\n",
       "      <th></th>\n",
       "      <th></th>\n",
       "      <th></th>\n",
       "      <th></th>\n",
       "      <th></th>\n",
       "    </tr>\n",
       "  </thead>\n",
       "  <tbody>\n",
       "    <tr>\n",
       "      <th>000001.SZ</th>\n",
       "      <td>Ping An Bank Co., Ltd.</td>\n",
       "      <td>16.82</td>\n",
       "      <td>Shenzhen</td>\n",
       "      <td>SHZ</td>\n",
       "      <td>stock</td>\n",
       "    </tr>\n",
       "    <tr>\n",
       "      <th>000002.SZ</th>\n",
       "      <td>China Vanke Co., Ltd.</td>\n",
       "      <td>19.12</td>\n",
       "      <td>Shenzhen</td>\n",
       "      <td>SHZ</td>\n",
       "      <td>stock</td>\n",
       "    </tr>\n",
       "    <tr>\n",
       "      <th>000004.SZ</th>\n",
       "      <td>Shenzhen GuoHua Network Security Technology Co...</td>\n",
       "      <td>19.60</td>\n",
       "      <td>Shenzhen</td>\n",
       "      <td>SHZ</td>\n",
       "      <td>stock</td>\n",
       "    </tr>\n",
       "    <tr>\n",
       "      <th>000005.SZ</th>\n",
       "      <td>Shenzhen Fountain Corporation</td>\n",
       "      <td>2.29</td>\n",
       "      <td>Shenzhen</td>\n",
       "      <td>SHZ</td>\n",
       "      <td>stock</td>\n",
       "    </tr>\n",
       "    <tr>\n",
       "      <th>000006.SZ</th>\n",
       "      <td>Shenzhen Zhenye (Group) Co.,Ltd.</td>\n",
       "      <td>4.38</td>\n",
       "      <td>Shenzhen</td>\n",
       "      <td>SHZ</td>\n",
       "      <td>stock</td>\n",
       "    </tr>\n",
       "    <tr>\n",
       "      <th>...</th>\n",
       "      <td>...</td>\n",
       "      <td>...</td>\n",
       "      <td>...</td>\n",
       "      <td>...</td>\n",
       "      <td>...</td>\n",
       "    </tr>\n",
       "    <tr>\n",
       "      <th>ZYT.L</th>\n",
       "      <td>Zytronic plc</td>\n",
       "      <td>170.00</td>\n",
       "      <td>LSE</td>\n",
       "      <td>LSE</td>\n",
       "      <td>stock</td>\n",
       "    </tr>\n",
       "    <tr>\n",
       "      <th>ZYXI</th>\n",
       "      <td>Zynex, Inc.</td>\n",
       "      <td>10.34</td>\n",
       "      <td>Nasdaq Capital Market</td>\n",
       "      <td>NASDAQ</td>\n",
       "      <td>stock</td>\n",
       "    </tr>\n",
       "    <tr>\n",
       "      <th>ZZLL</th>\n",
       "      <td>ZZLL Information Technology, Inc.</td>\n",
       "      <td>0.23</td>\n",
       "      <td>Other OTC</td>\n",
       "      <td>MUTUAL_FUND</td>\n",
       "      <td>stock</td>\n",
       "    </tr>\n",
       "    <tr>\n",
       "      <th>ZZZ.TO</th>\n",
       "      <td>Sleep Country Canada Holdings Inc.</td>\n",
       "      <td>37.73</td>\n",
       "      <td>Toronto</td>\n",
       "      <td>TSX</td>\n",
       "      <td>stock</td>\n",
       "    </tr>\n",
       "    <tr>\n",
       "      <th>ZZZD.TO</th>\n",
       "      <td>BMO Tactical Dividend ETF Fund ETF</td>\n",
       "      <td>28.27</td>\n",
       "      <td>Toronto</td>\n",
       "      <td>TSX</td>\n",
       "      <td>etf</td>\n",
       "    </tr>\n",
       "  </tbody>\n",
       "</table>\n",
       "<p>33459 rows × 5 columns</p>\n",
       "</div>"
      ],
      "text/plain": [
       "                                                        name   price  \\\n",
       "symbol                                                                 \n",
       "000001.SZ                             Ping An Bank Co., Ltd.   16.82   \n",
       "000002.SZ                              China Vanke Co., Ltd.   19.12   \n",
       "000004.SZ  Shenzhen GuoHua Network Security Technology Co...   19.60   \n",
       "000005.SZ                      Shenzhen Fountain Corporation    2.29   \n",
       "000006.SZ                   Shenzhen Zhenye (Group) Co.,Ltd.    4.38   \n",
       "...                                                      ...     ...   \n",
       "ZYT.L                                           Zytronic plc  170.00   \n",
       "ZYXI                                             Zynex, Inc.   10.34   \n",
       "ZZLL                       ZZLL Information Technology, Inc.    0.23   \n",
       "ZZZ.TO                    Sleep Country Canada Holdings Inc.   37.73   \n",
       "ZZZD.TO                   BMO Tactical Dividend ETF Fund ETF   28.27   \n",
       "\n",
       "                        exchange exchangeShortName   type  \n",
       "symbol                                                     \n",
       "000001.SZ               Shenzhen               SHZ  stock  \n",
       "000002.SZ               Shenzhen               SHZ  stock  \n",
       "000004.SZ               Shenzhen               SHZ  stock  \n",
       "000005.SZ               Shenzhen               SHZ  stock  \n",
       "000006.SZ               Shenzhen               SHZ  stock  \n",
       "...                          ...               ...    ...  \n",
       "ZYT.L                        LSE               LSE  stock  \n",
       "ZYXI       Nasdaq Capital Market            NASDAQ  stock  \n",
       "ZZLL                   Other OTC       MUTUAL_FUND  stock  \n",
       "ZZZ.TO                   Toronto               TSX  stock  \n",
       "ZZZD.TO                  Toronto               TSX    etf  \n",
       "\n",
       "[33459 rows x 5 columns]"
      ]
     },
     "execution_count": 6,
     "metadata": {},
     "output_type": "execute_result"
    }
   ],
   "source": [
    "# Show the available companies\n",
    "companies = fa.available_companies(api_key)\n",
    "companies.sort_values('symbol')\n"
   ]
  },
  {
   "cell_type": "code",
   "execution_count": null,
   "metadata": {},
   "outputs": [],
   "source": [
    "# Supported exchanges\n",
    "companies.exchange.unique()"
   ]
  },
  {
   "cell_type": "code",
   "execution_count": 5,
   "metadata": {},
   "outputs": [
    {
     "data": {
      "text/html": [
       "<div>\n",
       "<style scoped>\n",
       "    .dataframe tbody tr th:only-of-type {\n",
       "        vertical-align: middle;\n",
       "    }\n",
       "\n",
       "    .dataframe tbody tr th {\n",
       "        vertical-align: top;\n",
       "    }\n",
       "\n",
       "    .dataframe thead th {\n",
       "        text-align: right;\n",
       "    }\n",
       "</style>\n",
       "<table border=\"1\" class=\"dataframe\">\n",
       "  <thead>\n",
       "    <tr style=\"text-align: right;\">\n",
       "      <th></th>\n",
       "    </tr>\n",
       "  </thead>\n",
       "  <tbody>\n",
       "  </tbody>\n",
       "</table>\n",
       "</div>"
      ],
      "text/plain": [
       "Empty DataFrame\n",
       "Columns: []\n",
       "Index: []"
      ]
     },
     "execution_count": 5,
     "metadata": {},
     "output_type": "execute_result"
    }
   ],
   "source": [
    "# Company Profile\n",
    "profile = fa.profile(ticker, api_key)\n",
    "profile"
   ]
  },
  {
   "cell_type": "code",
   "execution_count": null,
   "metadata": {},
   "outputs": [],
   "source": [
    "# Latest Quote\n",
    "quotes = fa.quote(ticker, api_key)\n",
    "quotes"
   ]
  },
  {
   "cell_type": "code",
   "execution_count": 4,
   "metadata": {},
   "outputs": [
    {
     "ename": "KeyError",
     "evalue": "\"None of ['date'] are in the columns\"",
     "output_type": "error",
     "traceback": [
      "\u001b[0;31m---------------------------------------------------------------------------\u001b[0m",
      "\u001b[0;31mKeyError\u001b[0m                                  Traceback (most recent call last)",
      "\u001b[0;32m/var/folders/pk/ntxqk62j0_jb9d_f4plbpzv80000gn/T/ipykernel_24051/1997791733.py\u001b[0m in \u001b[0;36m<module>\u001b[0;34m\u001b[0m\n\u001b[1;32m      1\u001b[0m \u001b[0;31m# Analysts Recommendation/Ratings\u001b[0m\u001b[0;34m\u001b[0m\u001b[0;34m\u001b[0m\u001b[0;34m\u001b[0m\u001b[0m\n\u001b[0;32m----> 2\u001b[0;31m \u001b[0mratings\u001b[0m \u001b[0;34m=\u001b[0m \u001b[0mfa\u001b[0m\u001b[0;34m.\u001b[0m\u001b[0mrating\u001b[0m\u001b[0;34m(\u001b[0m\u001b[0;34m'ADA'\u001b[0m\u001b[0;34m,\u001b[0m \u001b[0mapi_key\u001b[0m\u001b[0;34m)\u001b[0m\u001b[0;34m\u001b[0m\u001b[0;34m\u001b[0m\u001b[0m\n\u001b[0m\u001b[1;32m      3\u001b[0m \u001b[0mratings\u001b[0m\u001b[0;34m\u001b[0m\u001b[0;34m\u001b[0m\u001b[0m\n",
      "\u001b[0;32m~/Desktop/FinAILabDatasets/venv/lib/python3.8/site-packages/FundamentalAnalysis/details.py\u001b[0m in \u001b[0;36mrating\u001b[0;34m(ticker, api_key)\u001b[0m\n\u001b[1;32m    189\u001b[0m         \u001b[0;32mdel\u001b[0m \u001b[0mvalue\u001b[0m\u001b[0;34m[\u001b[0m\u001b[0;34m'symbol'\u001b[0m\u001b[0;34m]\u001b[0m\u001b[0;34m\u001b[0m\u001b[0;34m\u001b[0m\u001b[0m\n\u001b[1;32m    190\u001b[0m \u001b[0;34m\u001b[0m\u001b[0m\n\u001b[0;32m--> 191\u001b[0;31m     \u001b[0mdata_formatted\u001b[0m \u001b[0;34m=\u001b[0m \u001b[0mpd\u001b[0m\u001b[0;34m.\u001b[0m\u001b[0mDataFrame\u001b[0m\u001b[0;34m(\u001b[0m\u001b[0mdata_json\u001b[0m\u001b[0;34m)\u001b[0m\u001b[0;34m.\u001b[0m\u001b[0mset_index\u001b[0m\u001b[0;34m(\u001b[0m\u001b[0;34m'date'\u001b[0m\u001b[0;34m)\u001b[0m\u001b[0;34m\u001b[0m\u001b[0;34m\u001b[0m\u001b[0m\n\u001b[0m\u001b[1;32m    192\u001b[0m \u001b[0;34m\u001b[0m\u001b[0m\n\u001b[1;32m    193\u001b[0m     \u001b[0;32mreturn\u001b[0m \u001b[0mdata_formatted\u001b[0m\u001b[0;34m\u001b[0m\u001b[0;34m\u001b[0m\u001b[0m\n",
      "\u001b[0;32m~/Desktop/FinAILabDatasets/venv/lib/python3.8/site-packages/pandas/util/_decorators.py\u001b[0m in \u001b[0;36mwrapper\u001b[0;34m(*args, **kwargs)\u001b[0m\n\u001b[1;32m    309\u001b[0m                     \u001b[0mstacklevel\u001b[0m\u001b[0;34m=\u001b[0m\u001b[0mstacklevel\u001b[0m\u001b[0;34m,\u001b[0m\u001b[0;34m\u001b[0m\u001b[0;34m\u001b[0m\u001b[0m\n\u001b[1;32m    310\u001b[0m                 )\n\u001b[0;32m--> 311\u001b[0;31m             \u001b[0;32mreturn\u001b[0m \u001b[0mfunc\u001b[0m\u001b[0;34m(\u001b[0m\u001b[0;34m*\u001b[0m\u001b[0margs\u001b[0m\u001b[0;34m,\u001b[0m \u001b[0;34m**\u001b[0m\u001b[0mkwargs\u001b[0m\u001b[0;34m)\u001b[0m\u001b[0;34m\u001b[0m\u001b[0;34m\u001b[0m\u001b[0m\n\u001b[0m\u001b[1;32m    312\u001b[0m \u001b[0;34m\u001b[0m\u001b[0m\n\u001b[1;32m    313\u001b[0m         \u001b[0;32mreturn\u001b[0m \u001b[0mwrapper\u001b[0m\u001b[0;34m\u001b[0m\u001b[0;34m\u001b[0m\u001b[0m\n",
      "\u001b[0;32m~/Desktop/FinAILabDatasets/venv/lib/python3.8/site-packages/pandas/core/frame.py\u001b[0m in \u001b[0;36mset_index\u001b[0;34m(self, keys, drop, append, inplace, verify_integrity)\u001b[0m\n\u001b[1;32m   5449\u001b[0m \u001b[0;34m\u001b[0m\u001b[0m\n\u001b[1;32m   5450\u001b[0m         \u001b[0;32mif\u001b[0m \u001b[0mmissing\u001b[0m\u001b[0;34m:\u001b[0m\u001b[0;34m\u001b[0m\u001b[0;34m\u001b[0m\u001b[0m\n\u001b[0;32m-> 5451\u001b[0;31m             \u001b[0;32mraise\u001b[0m \u001b[0mKeyError\u001b[0m\u001b[0;34m(\u001b[0m\u001b[0;34mf\"None of {missing} are in the columns\"\u001b[0m\u001b[0;34m)\u001b[0m\u001b[0;34m\u001b[0m\u001b[0;34m\u001b[0m\u001b[0m\n\u001b[0m\u001b[1;32m   5452\u001b[0m \u001b[0;34m\u001b[0m\u001b[0m\n\u001b[1;32m   5453\u001b[0m         \u001b[0;32mif\u001b[0m \u001b[0minplace\u001b[0m\u001b[0;34m:\u001b[0m\u001b[0;34m\u001b[0m\u001b[0;34m\u001b[0m\u001b[0m\n",
      "\u001b[0;31mKeyError\u001b[0m: \"None of ['date'] are in the columns\""
     ]
    }
   ],
   "source": [
    "# Analysts Recommendation/Ratings\n",
    "ratings = fa.rating(ticker, api_key)\n",
    "ratings"
   ]
  },
  {
   "cell_type": "code",
   "execution_count": null,
   "metadata": {},
   "outputs": [],
   "source": [
    "# Obtain DCFs over time\n",
    "dcf_annually = fa.discounted_cash_flow(ticker, api_key, period=\"annual\")\n",
    "dcf_quarterly = fa.discounted_cash_flow(ticker, api_key, period=\"quarter\")"
   ]
  },
  {
   "cell_type": "code",
   "execution_count": null,
   "metadata": {},
   "outputs": [],
   "source": [
    "dcf_annually"
   ]
  },
  {
   "cell_type": "code",
   "execution_count": null,
   "metadata": {},
   "outputs": [],
   "source": [
    "dcf_quarterly"
   ]
  },
  {
   "cell_type": "code",
   "execution_count": null,
   "metadata": {},
   "outputs": [],
   "source": [
    "# Balance Sheet statements\n",
    "balance_sheet_annually = fa.balance_sheet_statement(ticker, api_key, period=\"annual\")\n",
    "balance_sheet_quarterly = fa.balance_sheet_statement(ticker, api_key, period=\"quarter\")"
   ]
  },
  {
   "cell_type": "code",
   "execution_count": null,
   "metadata": {},
   "outputs": [],
   "source": [
    "balance_sheet_annually"
   ]
  },
  {
   "cell_type": "code",
   "execution_count": null,
   "metadata": {},
   "outputs": [],
   "source": [
    "# Income Statements\n",
    "income_statement_annually = fa.income_statement(ticker, api_key, period=\"annual\")\n",
    "income_statement_quarterly = fa.income_statement(ticker, api_key, period=\"quarter\")"
   ]
  },
  {
   "cell_type": "code",
   "execution_count": null,
   "metadata": {},
   "outputs": [],
   "source": [
    "income_statement_quarterly"
   ]
  },
  {
   "cell_type": "code",
   "execution_count": null,
   "metadata": {},
   "outputs": [],
   "source": [
    "# Cash Flow Statements\n",
    "cash_flow_statement_annually = fa.cash_flow_statement(ticker, api_key, period=\"annual\")\n",
    "cash_flow_statement_quarterly = fa.cash_flow_statement(ticker, api_key, period=\"quarter\")"
   ]
  },
  {
   "cell_type": "code",
   "execution_count": null,
   "metadata": {},
   "outputs": [],
   "source": [
    "cash_flow_statement_annually"
   ]
  },
  {
   "cell_type": "code",
   "execution_count": null,
   "metadata": {},
   "outputs": [],
   "source": [
    "# Key Metrics\n",
    "key_metrics_annually = fa.key_metrics(ticker, api_key, period=\"annual\")\n",
    "key_metrics_quarterly = fa.key_metrics(ticker, api_key, period=\"quarter\")"
   ]
  },
  {
   "cell_type": "code",
   "execution_count": null,
   "metadata": {},
   "outputs": [],
   "source": [
    "key_metrics_quarterly"
   ]
  },
  {
   "cell_type": "code",
   "execution_count": null,
   "metadata": {},
   "outputs": [],
   "source": [
    "# Large set of in-depth ratios\n",
    "financial_ratios_annually = fa.financial_ratios(ticker, api_key, period=\"annual\")\n",
    "financial_ratios_quarterly = fa.financial_ratios(ticker, api_key, period=\"quarter\")\n",
    "financial_ratios_quarterly"
   ]
  },
  {
   "cell_type": "code",
   "execution_count": null,
   "metadata": {},
   "outputs": [],
   "source": [
    "# Growth of the company\n",
    "growth_annually = fa.financial_statement_growth(ticker, api_key, period=\"annual\")\n",
    "growth_quarterly = fa.financial_statement_growth(ticker, api_key, period=\"quarter\")\n",
    "growth_quarterly"
   ]
  },
  {
   "cell_type": "code",
   "execution_count": null,
   "metadata": {},
   "outputs": [],
   "source": [
    "# General stock data\n",
    "stock_data = fa.stock_data(ticker, period=\"ytd\", interval=\"1d\")\n",
    "\n",
    "# Detailed stock data\n",
    "stock_data_detailed = fa.stock_data_detailed(ticker, api_key, begin=\"2000-01-01\", end=\"2020-01-01\")"
   ]
  },
  {
   "cell_type": "markdown",
   "metadata": {},
   "source": [
    "### Cryptocurrencites"
   ]
  },
  {
   "cell_type": "code",
   "execution_count": null,
   "metadata": {},
   "outputs": [],
   "source": []
  }
 ],
 "metadata": {
  "kernelspec": {
   "display_name": "Python 3",
   "language": "python",
   "name": "python3"
  },
  "language_info": {
   "codemirror_mode": {
    "name": "ipython",
    "version": 3
   },
   "file_extension": ".py",
   "mimetype": "text/x-python",
   "name": "python",
   "nbconvert_exporter": "python",
   "pygments_lexer": "ipython3",
   "version": "3.8.9"
  }
 },
 "nbformat": 4,
 "nbformat_minor": 4
}
