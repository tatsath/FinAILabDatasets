{
 "cells": [
  {
   "cell_type": "markdown",
   "metadata": {},
   "source": [
    "# Stooq"
   ]
  },
  {
   "cell_type": "markdown",
   "metadata": {},
   "source": [
    "## Table of Contents\n",
    "\n",
    "* [Getting Started - Load Libraries and Dataset](#0)\n",
    "* [Historical Price and Volume for 1 Stock](#1)\n"
   ]
  },
  {
   "cell_type": "markdown",
   "metadata": {},
   "source": [
    "<a id='0'></a>\n",
    "## Getting Started - Load Libraries and Dataset"
   ]
  },
  {
   "cell_type": "code",
   "execution_count": 2,
   "metadata": {},
   "outputs": [],
   "source": [
    "import pandas as pd\n",
    "import numpy as np\n",
    "import pandas_datareader.data as web\n",
    "from datetime import datetime"
   ]
  },
  {
   "cell_type": "markdown",
   "metadata": {},
   "source": [
    "<a id='1'></a>\n",
    "## Historical Price and Volume for 1 Stock"
   ]
  },
  {
   "cell_type": "code",
   "execution_count": 3,
   "metadata": {},
   "outputs": [
    {
     "data": {
      "text/html": [
       "<div>\n",
       "<style scoped>\n",
       "    .dataframe tbody tr th:only-of-type {\n",
       "        vertical-align: middle;\n",
       "    }\n",
       "\n",
       "    .dataframe tbody tr th {\n",
       "        vertical-align: top;\n",
       "    }\n",
       "\n",
       "    .dataframe thead th {\n",
       "        text-align: right;\n",
       "    }\n",
       "</style>\n",
       "<table border=\"1\" class=\"dataframe\">\n",
       "  <thead>\n",
       "    <tr style=\"text-align: right;\">\n",
       "      <th></th>\n",
       "      <th>Open</th>\n",
       "      <th>High</th>\n",
       "      <th>Low</th>\n",
       "      <th>Close</th>\n",
       "      <th>Volume</th>\n",
       "    </tr>\n",
       "    <tr>\n",
       "      <th>Date</th>\n",
       "      <th></th>\n",
       "      <th></th>\n",
       "      <th></th>\n",
       "      <th></th>\n",
       "      <th></th>\n",
       "    </tr>\n",
       "  </thead>\n",
       "  <tbody>\n",
       "    <tr>\n",
       "      <th>2019-12-31</th>\n",
       "      <td>311.580</td>\n",
       "      <td>313.150</td>\n",
       "      <td>311.220</td>\n",
       "      <td>312.880</td>\n",
       "      <td>58745562</td>\n",
       "    </tr>\n",
       "    <tr>\n",
       "      <th>2019-12-30</th>\n",
       "      <td>313.940</td>\n",
       "      <td>314.090</td>\n",
       "      <td>311.600</td>\n",
       "      <td>312.130</td>\n",
       "      <td>51211140</td>\n",
       "    </tr>\n",
       "    <tr>\n",
       "      <th>2019-12-27</th>\n",
       "      <td>314.710</td>\n",
       "      <td>314.770</td>\n",
       "      <td>313.290</td>\n",
       "      <td>313.850</td>\n",
       "      <td>43775840</td>\n",
       "    </tr>\n",
       "    <tr>\n",
       "      <th>2019-12-26</th>\n",
       "      <td>312.670</td>\n",
       "      <td>313.940</td>\n",
       "      <td>312.660</td>\n",
       "      <td>313.930</td>\n",
       "      <td>31914361</td>\n",
       "    </tr>\n",
       "    <tr>\n",
       "      <th>2019-12-24</th>\n",
       "      <td>312.510</td>\n",
       "      <td>312.560</td>\n",
       "      <td>311.950</td>\n",
       "      <td>312.280</td>\n",
       "      <td>20851613</td>\n",
       "    </tr>\n",
       "    <tr>\n",
       "      <th>...</th>\n",
       "      <td>...</td>\n",
       "      <td>...</td>\n",
       "      <td>...</td>\n",
       "      <td>...</td>\n",
       "      <td>...</td>\n",
       "    </tr>\n",
       "    <tr>\n",
       "      <th>2005-03-03</th>\n",
       "      <td>98.732</td>\n",
       "      <td>98.927</td>\n",
       "      <td>97.941</td>\n",
       "      <td>98.372</td>\n",
       "      <td>76529410</td>\n",
       "    </tr>\n",
       "    <tr>\n",
       "      <th>2005-03-02</th>\n",
       "      <td>97.999</td>\n",
       "      <td>98.947</td>\n",
       "      <td>97.892</td>\n",
       "      <td>98.333</td>\n",
       "      <td>79155581</td>\n",
       "    </tr>\n",
       "    <tr>\n",
       "      <th>2005-03-01</th>\n",
       "      <td>98.009</td>\n",
       "      <td>98.623</td>\n",
       "      <td>98.009</td>\n",
       "      <td>98.382</td>\n",
       "      <td>58623358</td>\n",
       "    </tr>\n",
       "    <tr>\n",
       "      <th>2005-02-28</th>\n",
       "      <td>98.313</td>\n",
       "      <td>98.441</td>\n",
       "      <td>97.402</td>\n",
       "      <td>97.872</td>\n",
       "      <td>85556312</td>\n",
       "    </tr>\n",
       "    <tr>\n",
       "      <th>2005-02-25</th>\n",
       "      <td>97.599</td>\n",
       "      <td>98.732</td>\n",
       "      <td>97.510</td>\n",
       "      <td>98.545</td>\n",
       "      <td>75386071</td>\n",
       "    </tr>\n",
       "  </tbody>\n",
       "</table>\n",
       "<p>3737 rows × 5 columns</p>\n",
       "</div>"
      ],
      "text/plain": [
       "               Open     High      Low    Close    Volume\n",
       "Date                                                    \n",
       "2019-12-31  311.580  313.150  311.220  312.880  58745562\n",
       "2019-12-30  313.940  314.090  311.600  312.130  51211140\n",
       "2019-12-27  314.710  314.770  313.290  313.850  43775840\n",
       "2019-12-26  312.670  313.940  312.660  313.930  31914361\n",
       "2019-12-24  312.510  312.560  311.950  312.280  20851613\n",
       "...             ...      ...      ...      ...       ...\n",
       "2005-03-03   98.732   98.927   97.941   98.372  76529410\n",
       "2005-03-02   97.999   98.947   97.892   98.333  79155581\n",
       "2005-03-01   98.009   98.623   98.009   98.382  58623358\n",
       "2005-02-28   98.313   98.441   97.402   97.872  85556312\n",
       "2005-02-25   97.599   98.732   97.510   98.545  75386071\n",
       "\n",
       "[3737 rows x 5 columns]"
      ]
     },
     "execution_count": 3,
     "metadata": {},
     "output_type": "execute_result"
    }
   ],
   "source": [
    "# adjust the variables below\n",
    "ticker = 'SPY'\n",
    "start = datetime(1990,1,1)\n",
    "end = datetime(2020,1,1)\n",
    "\n",
    "df = web.DataReader(ticker, 'stooq', start, end)\n",
    "df"
   ]
  }
 ],
 "metadata": {
  "interpreter": {
   "hash": "366707ea24bdd07af2745ddffc3e5dd8201944abddf6c7f0911e7ecd4d105ee5"
  },
  "kernelspec": {
   "display_name": "Python 3.8.9 64-bit ('venv': venv)",
   "language": "python",
   "name": "python3"
  },
  "language_info": {
   "codemirror_mode": {
    "name": "ipython",
    "version": 3
   },
   "file_extension": ".py",
   "mimetype": "text/x-python",
   "name": "python",
   "nbconvert_exporter": "python",
   "pygments_lexer": "ipython3",
   "version": "3.8.9"
  },
  "orig_nbformat": 4
 },
 "nbformat": 4,
 "nbformat_minor": 2
}
