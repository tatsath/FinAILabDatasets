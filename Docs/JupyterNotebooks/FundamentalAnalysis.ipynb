{
 "cells": [
  {
   "cell_type": "markdown",
   "metadata": {},
   "source": [
    "# Fundamental Analysis"
   ]
  },
  {
   "cell_type": "markdown",
   "metadata": {},
   "source": [
    "## Table of Contents\n",
    "\n",
    "* [Getting Started - Load Libraries and Dataset](#0) \n",
    "* [List Options](#1)\n",
    "* [List Companies](#2)\n",
    "* [List Exchanges](#3)\n",
    "* [Historical Data for One Stock](#4)\n",
    "* [Stock Fundamentals](#5)\n",
    "* [Sentiment](#6)\n",
    "* [Financial Statements](#7)\n",
    "* [Key Metrics](#8)\n",
    "* [Financial Ratios](#9)\n",
    "* [Growth](#10)"
   ]
  },
  {
   "cell_type": "markdown",
   "metadata": {},
   "source": [
    "<a id='0'></a>\n",
    "## Getting Started - Load Libraries and Dataset"
   ]
  },
  {
   "cell_type": "code",
   "execution_count": null,
   "metadata": {},
   "outputs": [],
   "source": [
    "import FundamentalAnalysis as fa\n",
    "import financedatabase as fd\n",
    "import pandas as pd\n",
    "ticker = \"TSLA\"\n",
    "api_key = \"7b95034d43c6ccb530b841102ac7bc8f\"\n"
   ]
  },
  {
   "cell_type": "markdown",
   "metadata": {},
   "source": [
    "The below command lists all options available to be queried"
   ]
  },
  {
   "cell_type": "markdown",
   "metadata": {},
   "source": [
    "<a id='1'></a>\n",
    "## List Options"
   ]
  },
  {
   "cell_type": "code",
   "execution_count": null,
   "metadata": {},
   "outputs": [],
   "source": [
    "# Options: 'cryptocurrencies', 'currencies', 'equities', 'etfs' or 'funds'\n",
    "options = fd.show_options('cryptocurrencies', equities_selection=None, country=None, sector=None, industry=None)\n",
    "options = pd.DataFrame(options)\n",
    "options"
   ]
  },
  {
   "cell_type": "markdown",
   "metadata": {},
   "source": [
    "<a id='2'></a>\n",
    "## List Companies"
   ]
  },
  {
   "cell_type": "code",
   "execution_count": null,
   "metadata": {},
   "outputs": [],
   "source": [
    "# Show the available companies\n",
    "companies = fa.available_companies(api_key)\n",
    "companies.sort_values('symbol')\n"
   ]
  },
  {
   "cell_type": "markdown",
   "metadata": {},
   "source": [
    "<a id='3'></a>\n",
    "## List Exchanges"
   ]
  },
  {
   "cell_type": "code",
   "execution_count": null,
   "metadata": {},
   "outputs": [],
   "source": [
    "# Supported exchanges\n",
    "companies.exchange.unique()"
   ]
  },
  {
   "cell_type": "markdown",
   "metadata": {},
   "source": [
    "<a id='4'></a>\n",
    "## Historical Data for 1 Stock\n"
   ]
  },
  {
   "cell_type": "code",
   "execution_count": null,
   "metadata": {},
   "outputs": [],
   "source": [
    "# General stock data\n",
    "stock_data = fa.stock_data(ticker, period=\"ytd\", interval=\"1d\")\n",
    "\n",
    "# Detailed stock data\n",
    "stock_data_detailed = fa.stock_data_detailed(ticker, api_key, begin=\"2000-01-01\", end=\"2020-01-01\")\n",
    "stock_data_detailed"
   ]
  },
  {
   "cell_type": "markdown",
   "metadata": {},
   "source": [
    "<a id='5'></a>\n",
    "## Stock Fundamentals\n"
   ]
  },
  {
   "cell_type": "code",
   "execution_count": null,
   "metadata": {},
   "outputs": [],
   "source": [
    "# Company Profile\n",
    "profile = fa.profile(ticker, api_key)\n",
    "profile"
   ]
  },
  {
   "cell_type": "code",
   "execution_count": null,
   "metadata": {},
   "outputs": [],
   "source": [
    "# Latest Quote\n",
    "quotes = fa.quote(ticker, api_key)\n",
    "quotes"
   ]
  },
  {
   "cell_type": "markdown",
   "metadata": {},
   "source": [
    "<a id='6'></a>\n",
    "## Sentiment"
   ]
  },
  {
   "cell_type": "code",
   "execution_count": null,
   "metadata": {},
   "outputs": [],
   "source": [
    "# Analysts Recommendation/Ratings\n",
    "ratings = fa.rating(ticker, api_key)\n",
    "ratings"
   ]
  },
  {
   "cell_type": "markdown",
   "metadata": {},
   "source": [
    "<a id='7'></a>\n",
    "## Financial Statements\n",
    "- Premium Subscription Required"
   ]
  },
  {
   "cell_type": "code",
   "execution_count": null,
   "metadata": {},
   "outputs": [],
   "source": [
    "# Obtain DCFs over time\n",
    "dcf_annually = fa.discounted_cash_flow(ticker, api_key, period=\"annual\")\n",
    "dcf_quarterly = fa.discounted_cash_flow(ticker, api_key, period=\"quarter\")"
   ]
  },
  {
   "cell_type": "code",
   "execution_count": null,
   "metadata": {},
   "outputs": [],
   "source": [
    "dcf_annually"
   ]
  },
  {
   "cell_type": "code",
   "execution_count": null,
   "metadata": {},
   "outputs": [],
   "source": [
    "dcf_quarterly"
   ]
  },
  {
   "cell_type": "code",
   "execution_count": null,
   "metadata": {},
   "outputs": [],
   "source": [
    "# Balance Sheet statements\n",
    "balance_sheet_annually = fa.balance_sheet_statement(ticker, api_key, period=\"annual\")\n",
    "balance_sheet_quarterly = fa.balance_sheet_statement(ticker, api_key, period=\"quarter\")"
   ]
  },
  {
   "cell_type": "code",
   "execution_count": null,
   "metadata": {},
   "outputs": [],
   "source": [
    "balance_sheet_annually"
   ]
  },
  {
   "cell_type": "code",
   "execution_count": null,
   "metadata": {},
   "outputs": [],
   "source": [
    "# Income Statements\n",
    "income_statement_annually = fa.income_statement(ticker, api_key, period=\"annual\")\n",
    "income_statement_quarterly = fa.income_statement(ticker, api_key, period=\"quarter\")"
   ]
  },
  {
   "cell_type": "code",
   "execution_count": null,
   "metadata": {},
   "outputs": [],
   "source": [
    "income_statement_quarterly"
   ]
  },
  {
   "cell_type": "code",
   "execution_count": null,
   "metadata": {},
   "outputs": [],
   "source": [
    "# Cash Flow Statements\n",
    "cash_flow_statement_annually = fa.cash_flow_statement(ticker, api_key, period=\"annual\")\n",
    "cash_flow_statement_quarterly = fa.cash_flow_statement(ticker, api_key, period=\"quarter\")"
   ]
  },
  {
   "cell_type": "code",
   "execution_count": null,
   "metadata": {},
   "outputs": [],
   "source": [
    "cash_flow_statement_annually"
   ]
  },
  {
   "cell_type": "markdown",
   "metadata": {},
   "source": [
    "<a id='8'></a>\n",
    "## Key Metrics"
   ]
  },
  {
   "cell_type": "code",
   "execution_count": null,
   "metadata": {},
   "outputs": [],
   "source": [
    "# Key Metrics\n",
    "key_metrics_annually = fa.key_metrics(ticker, api_key, period=\"annual\")\n",
    "key_metrics_quarterly = fa.key_metrics(ticker, api_key, period=\"quarter\")"
   ]
  },
  {
   "cell_type": "code",
   "execution_count": null,
   "metadata": {},
   "outputs": [],
   "source": [
    "key_metrics_quarterly"
   ]
  },
  {
   "cell_type": "markdown",
   "metadata": {},
   "source": [
    "<a id='9'></a>\n",
    "## Financial Ratios"
   ]
  },
  {
   "cell_type": "code",
   "execution_count": null,
   "metadata": {},
   "outputs": [],
   "source": [
    "# Large set of in-depth ratios\n",
    "financial_ratios_annually = fa.financial_ratios(ticker, api_key, period=\"annual\")\n",
    "financial_ratios_quarterly = fa.financial_ratios(ticker, api_key, period=\"quarter\")\n",
    "financial_ratios_quarterly"
   ]
  },
  {
   "cell_type": "markdown",
   "metadata": {},
   "source": [
    "<a id='10'></a>\n",
    "## Growth"
   ]
  },
  {
   "cell_type": "code",
   "execution_count": null,
   "metadata": {},
   "outputs": [],
   "source": [
    "# Growth of the company\n",
    "growth_annually = fa.financial_statement_growth(ticker, api_key, period=\"annual\")\n",
    "growth_quarterly = fa.financial_statement_growth(ticker, api_key, period=\"quarter\")\n",
    "growth_quarterly"
   ]
  }
 ],
 "metadata": {
  "kernelspec": {
   "display_name": "Python 3",
   "language": "python",
   "name": "python3"
  },
  "language_info": {
   "codemirror_mode": {
    "name": "ipython",
    "version": 3
   },
   "file_extension": ".py",
   "mimetype": "text/x-python",
   "name": "python",
   "nbconvert_exporter": "python",
   "pygments_lexer": "ipython3",
   "version": "3.8.9"
  }
 },
 "nbformat": 4,
 "nbformat_minor": 4
}
